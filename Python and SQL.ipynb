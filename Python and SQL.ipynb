{
 "cells": [
  {
   "cell_type": "code",
   "execution_count": 1,
   "metadata": {},
   "outputs": [
    {
     "name": "stdout",
     "output_type": "stream",
     "text": [
      "Collecting mysql-connector-python\n",
      "  Downloading mysql_connector_python-8.0.25-cp37-cp37m-win_amd64.whl (793 kB)\n",
      "Requirement already satisfied: protobuf>=3.0.0 in c:\\users\\hssai\\anaconda3\\lib\\site-packages (from mysql-connector-python) (3.11.3)\n",
      "Requirement already satisfied: setuptools in c:\\users\\hssai\\anaconda3\\lib\\site-packages (from protobuf>=3.0.0->mysql-connector-python) (45.2.0.post20200210)\n",
      "Requirement already satisfied: six>=1.9 in c:\\users\\hssai\\anaconda3\\lib\\site-packages (from protobuf>=3.0.0->mysql-connector-python) (1.14.0)\n",
      "Installing collected packages: mysql-connector-python\n",
      "Successfully installed mysql-connector-python-8.0.25\n"
     ]
    }
   ],
   "source": [
    "!pip install mysql-connector-python"
   ]
  },
  {
   "cell_type": "code",
   "execution_count": 2,
   "metadata": {},
   "outputs": [],
   "source": [
    "# import necessary libraries \n",
    "\n",
    "import pandas as pd \n",
    "import mysql.connector \n",
    "from mysql.connector import Error \n"
   ]
  },
  {
   "cell_type": "markdown",
   "metadata": {},
   "source": [
    "## Connecting to MySQL Server"
   ]
  },
  {
   "cell_type": "code",
   "execution_count": 5,
   "metadata": {},
   "outputs": [],
   "source": [
    "# connecting to MySQL Server \n",
    "\n",
    "\n",
    "def create_server_connection(host_name, user_name, user_password):\n",
    "    connection = None\n",
    "    try:\n",
    "        connection = mysql.connector.connect(\n",
    "            host= '127.0.0.1',\n",
    "            user='root',\n",
    "            passwd= pw\n",
    "        )\n",
    "        print(\"MySQL Database connection successful\")\n",
    "    except Error as err:\n",
    "        print(f\"Error: '{err}'\")\n",
    "\n",
    "    return connection"
   ]
  },
  {
   "cell_type": "code",
   "execution_count": 6,
   "metadata": {},
   "outputs": [
    {
     "name": "stdout",
     "output_type": "stream",
     "text": [
      "MySQL Database connection successful\n"
     ]
    }
   ],
   "source": [
    "# testing if the server is connected\n",
    "connection = create_server_connection(\"localhost\", \"root\", \"Azerty123@\")"
   ]
  },
  {
   "cell_type": "markdown",
   "metadata": {},
   "source": [
    "## Creating a New Database"
   ]
  },
  {
   "cell_type": "code",
   "execution_count": 9,
   "metadata": {},
   "outputs": [],
   "source": [
    "# After we have established a connection\n",
    "# next, is to create a new database on the server \n",
    "\n",
    "def create_database(connection, query):  # function takes two arguments, connection and query\n",
    "    cursor = connection.cursor()\n",
    "    try:\n",
    "        cursor.execute(query)\n",
    "        print(\"Database created successfully\")\n",
    "    except Error as err:\n",
    "        print(f\"Error: '{err}'\")"
   ]
  },
  {
   "cell_type": "code",
   "execution_count": 10,
   "metadata": {},
   "outputs": [
    {
     "name": "stdout",
     "output_type": "stream",
     "text": [
      "Database created successfully\n"
     ]
    }
   ],
   "source": [
    "# define the query to create the database and call the function\n",
    "\n",
    "create_database_query = \"CREATE DATABASE school\"\n",
    "create_database(connection, create_database_query)"
   ]
  },
  {
   "cell_type": "markdown",
   "metadata": {},
   "source": [
    "## Connecting to the Database "
   ]
  },
  {
   "cell_type": "code",
   "execution_count": 11,
   "metadata": {},
   "outputs": [],
   "source": [
    "# After we have created a database in MySQL server, is the same function created before but now we take one more argument\n",
    "\n",
    "def create_db_connection(host_name, user_name, user_password, db_name): \n",
    "    connection = None \n",
    "    try:\n",
    "        connection = mysql.connector.connect(\n",
    "            host = '127.0.0.1', \n",
    "            user = 'root',\n",
    "            passwd = pw, \n",
    "            database = 'school'\n",
    "        )\n",
    "        print('MySQL Database connection successful')\n",
    "    except Error as err:\n",
    "        print(f\"Error: '{err}'\")\n",
    "    \n",
    "    return connection "
   ]
  },
  {
   "cell_type": "markdown",
   "metadata": {},
   "source": [
    "## Creating a Query Execution Function "
   ]
  },
  {
   "cell_type": "code",
   "execution_count": 12,
   "metadata": {},
   "outputs": [],
   "source": [
    "# create a query execution function, that's going to take the SQL queries stored in python as strings\n",
    "# and pass them to the cursor.execute() to execute them on the server. \n",
    "\n",
    "def execute_query(connection, query): \n",
    "    cursor = connection.cursor()\n",
    "    try:\n",
    "        cursor.execute(query)\n",
    "        connection.commit()  # this method to make sure that the commands detailed in our SQL queries \n",
    "        print(\"Query successful\")\n",
    "    except Error as err:\n",
    "        print(f\"Error: '{err}'\")"
   ]
  },
  {
   "cell_type": "markdown",
   "metadata": {},
   "source": [
    "## Creating Tables "
   ]
  },
  {
   "cell_type": "code",
   "execution_count": 14,
   "metadata": {},
   "outputs": [
    {
     "name": "stdout",
     "output_type": "stream",
     "text": [
      "MySQL Database connection successful\n",
      "Query successful\n"
     ]
    }
   ],
   "source": [
    "# after creating the database, I will start building the necessary tables\n",
    "\n",
    "# we use triple quote notation for multi-line strings to store our SQL query. \n",
    "\n",
    "create_teacher_table  = \"\"\"\n",
    "CREATE TABLE teacher(\n",
    "    teacher_id INT Primary Key, \n",
    "    first_name VARCHAR(40) NOT NULL, \n",
    "    last_name VARCHAR(40) NOT NULL,\n",
    "    language_1 VARCHAR(3) NOT NULL, \n",
    "    language_2 VARCHAR(3),\n",
    "    dob DATE, \n",
    "    tax_id INT UNIQUE, \n",
    "    phone_no VARCHAR(20)\n",
    ");\n",
    "\"\"\"\n",
    "\n",
    "# 1. create a connection to the database \n",
    "\n",
    "connection = create_db_connection('127.0.0.1', 'root', pw, 'school')\n",
    "\n",
    "# 2. execute our defined query\n",
    "\n",
    "execute_query(connection, create_teacher_table)"
   ]
  },
  {
   "cell_type": "code",
   "execution_count": 15,
   "metadata": {},
   "outputs": [
    {
     "name": "stdout",
     "output_type": "stream",
     "text": [
      "MySQL Database connection successful\n",
      "Query successful\n",
      "Query successful\n",
      "Query successful\n"
     ]
    }
   ],
   "source": [
    "# create client table \n",
    "create_client_table = \"\"\"\n",
    "CREATE TABLE client (\n",
    "  client_id INT PRIMARY KEY,\n",
    "  client_name VARCHAR(40) NOT NULL,\n",
    "  address VARCHAR(60) NOT NULL,\n",
    "  industry VARCHAR(20)\n",
    ");\n",
    " \"\"\"\n",
    "\n",
    "# create participant table \n",
    "create_participant_table = \"\"\"\n",
    "CREATE TABLE participant (\n",
    "  participant_id INT PRIMARY KEY,\n",
    "  first_name VARCHAR(40) NOT NULL,\n",
    "  last_name VARCHAR(40) NOT NULL,\n",
    "  phone_no VARCHAR(20),\n",
    "  client INT\n",
    ");\n",
    "\"\"\"\n",
    "\n",
    "\n",
    "# create course table \n",
    "create_course_table = \"\"\"\n",
    "CREATE TABLE course (\n",
    "  course_id INT PRIMARY KEY,\n",
    "  course_name VARCHAR(40) NOT NULL,\n",
    "  language VARCHAR(3) NOT NULL,\n",
    "  level VARCHAR(2),\n",
    "  course_length_weeks INT,\n",
    "  start_date DATE,\n",
    "  in_school BOOLEAN,\n",
    "  teacher INT,\n",
    "  client INT\n",
    ");\n",
    "\"\"\"\n",
    "\n",
    "# 1. create a connection to the database\n",
    "\n",
    "connection = create_db_connection('127.0.0.1', 'root', pw, 'school')\n",
    "\n",
    "# 2. execute our defined queries\n",
    "\n",
    "execute_query(connection,create_client_table)\n",
    "execute_query(connection,create_participant_table)\n",
    "execute_query(connection,create_course_table)"
   ]
  },
  {
   "cell_type": "code",
   "execution_count": 16,
   "metadata": {},
   "outputs": [
    {
     "name": "stdout",
     "output_type": "stream",
     "text": [
      "MySQL Database connection successful\n",
      "Query successful\n",
      "Query successful\n",
      "Query successful\n",
      "Query successful\n"
     ]
    }
   ],
   "source": [
    "# after creating all table, the following step is to define the relationships between the table \n",
    "\n",
    "alter_participant = \"\"\"\n",
    "ALTER TABLE participant\n",
    "ADD FOREIGN KEY(client)\n",
    "REFERENCES client(client_id)\n",
    "ON DELETE SET NULL;\n",
    "\"\"\"\n",
    "\n",
    "alter_course = \"\"\"\n",
    "ALTER TABLE course\n",
    "ADD FOREIGN KEY(teacher)\n",
    "REFERENCES teacher(teacher_id)\n",
    "ON DELETE SET NULL;\n",
    "\"\"\"\n",
    "\n",
    "alter_course_again = \"\"\"\n",
    "ALTER TABLE course\n",
    "ADD FOREIGN KEY(client)\n",
    "REFERENCES client(client_id)\n",
    "ON DELETE SET NULL;\n",
    "\"\"\"\n",
    "\n",
    "create_takescourse_table = \"\"\"\n",
    "CREATE TABLE takes_course (\n",
    "  participant_id INT,\n",
    "  course_id INT,\n",
    "  PRIMARY KEY(participant_id, course_id),\n",
    "  FOREIGN KEY(participant_id) REFERENCES participant(participant_id) ON DELETE CASCADE,\n",
    "  FOREIGN KEY(course_id) REFERENCES course(course_id) ON DELETE CASCADE\n",
    ");\n",
    "\"\"\"\n",
    "\n",
    "\n",
    "# 1. create a connection \n",
    "\n",
    "connection = create_db_connection(\"localhost\", \"root\", pw, \"scool\")\n",
    "\n",
    "# 2. execute the queries \n",
    "execute_query(connection, alter_participant)\n",
    "execute_query(connection, alter_course)\n",
    "execute_query(connection, alter_course_again)\n",
    "execute_query(connection, create_takescourse_table)"
   ]
  },
  {
   "cell_type": "markdown",
   "metadata": {},
   "source": [
    "## Populating the tables "
   ]
  },
  {
   "cell_type": "code",
   "execution_count": 18,
   "metadata": {},
   "outputs": [
    {
     "name": "stdout",
     "output_type": "stream",
     "text": [
      "MySQL Database connection successful\n",
      "Query successful\n"
     ]
    }
   ],
   "source": [
    "# insert data into teacher table \n",
    "pop_teacher = \"\"\"\n",
    "INSERT INTO teacher VALUES\n",
    "(1,  'James', 'Smith', 'ENG', NULL, '1985-04-20', 12345, '+491774553676'),\n",
    "(2, 'Stefanie',  'Martin',  'FRA', NULL,  '1970-02-17', 23456, '+491234567890'), \n",
    "(3, 'Steve', 'Wang',  'MAN', 'ENG', '1990-11-12', 34567, '+447840921333'),\n",
    "(4, 'Friederike',  'Müller-Rossi', 'DEU', 'ITA', '1987-07-07',  45678, '+492345678901'),\n",
    "(5, 'Isobel', 'Ivanova', 'RUS', 'ENG', '1963-05-30',  56789, '+491772635467'),\n",
    "(6, 'Niamh', 'Murphy', 'ENG', 'IRI', '1995-09-08',  67890, '+491231231232');\n",
    "\"\"\"\n",
    "\n",
    "connection = create_db_connection(\"localhost\", \"root\", pw, \"scool\")\n",
    "\n",
    "execute_query(connection, pop_teacher)"
   ]
  },
  {
   "cell_type": "code",
   "execution_count": 19,
   "metadata": {},
   "outputs": [
    {
     "name": "stdout",
     "output_type": "stream",
     "text": [
      "MySQL Database connection successful\n",
      "Query successful\n",
      "Query successful\n",
      "Query successful\n",
      "Query successful\n"
     ]
    }
   ],
   "source": [
    "# populate the remaining tables \n",
    "\n",
    "pop_client = \"\"\"\n",
    "INSERT INTO client VALUES\n",
    "(101, 'Big Business Federation', '123 Falschungstraße, 10999 Berlin', 'NGO'),\n",
    "(102, 'eCommerce GmbH', '27 Ersatz Allee, 10317 Berlin', 'Retail'),\n",
    "(103, 'AutoMaker AG',  '20 Künstlichstraße, 10023 Berlin', 'Auto'),\n",
    "(104, 'Banko Bank',  '12 Betrugstraße, 12345 Berlin', 'Banking'),\n",
    "(105, 'WeMoveIt GmbH', '138 Arglistweg, 10065 Berlin', 'Logistics');\n",
    "\"\"\"\n",
    "\n",
    "pop_participant = \"\"\"\n",
    "INSERT INTO participant VALUES\n",
    "(101, 'Marina', 'Berg','491635558182', 101),\n",
    "(102, 'Andrea', 'Duerr', '49159555740', 101),\n",
    "(103, 'Philipp', 'Probst',  '49155555692', 102),\n",
    "(104, 'René',  'Brandt',  '4916355546',  102),\n",
    "(105, 'Susanne', 'Shuster', '49155555779', 102),\n",
    "(106, 'Christian', 'Schreiner', '49162555375', 101),\n",
    "(107, 'Harry', 'Kim', '49177555633', 101),\n",
    "(108, 'Jan', 'Nowak', '49151555824', 101),\n",
    "(109, 'Pablo', 'Garcia',  '49162555176', 101),\n",
    "(110, 'Melanie', 'Dreschler', '49151555527', 103),\n",
    "(111, 'Dieter', 'Durr',  '49178555311', 103),\n",
    "(112, 'Max', 'Mustermann', '49152555195', 104),\n",
    "(113, 'Maxine', 'Mustermann', '49177555355', 104),\n",
    "(114, 'Heiko', 'Fleischer', '49155555581', 105);\n",
    "\"\"\"\n",
    "\n",
    "pop_course = \"\"\"\n",
    "INSERT INTO course VALUES\n",
    "(12, 'English for Logistics', 'ENG', 'A1', 10, '2020-02-01', TRUE,  1, 105),\n",
    "(13, 'Beginner English', 'ENG', 'A2', 40, '2019-11-12',  FALSE, 6, 101),\n",
    "(14, 'Intermediate English', 'ENG', 'B2', 40, '2019-11-12', FALSE, 6, 101),\n",
    "(15, 'Advanced English', 'ENG', 'C1', 40, '2019-11-12', FALSE, 6, 101),\n",
    "(16, 'Mandarin für Autoindustrie', 'MAN', 'B1', 15, '2020-01-15', TRUE, 3, 103),\n",
    "(17, 'Français intermédiaire', 'FRA', 'B1',  18, '2020-04-03', FALSE, 2, 101),\n",
    "(18, 'Deutsch für Anfänger', 'DEU', 'A2', 8, '2020-02-14', TRUE, 4, 102),\n",
    "(19, 'Intermediate English', 'ENG', 'B2', 10, '2020-03-29', FALSE, 1, 104),\n",
    "(20, 'Fortgeschrittenes Russisch', 'RUS', 'C1',  4, '2020-04-08',  FALSE, 5, 103);\n",
    "\"\"\"\n",
    "\n",
    "pop_takescourse = \"\"\"\n",
    "INSERT INTO takes_course VALUES\n",
    "(101, 15),\n",
    "(101, 17),\n",
    "(102, 17),\n",
    "(103, 18),\n",
    "(104, 18),\n",
    "(105, 18),\n",
    "(106, 13),\n",
    "(107, 13),\n",
    "(108, 13),\n",
    "(109, 14),\n",
    "(109, 15),\n",
    "(110, 16),\n",
    "(110, 20),\n",
    "(111, 16),\n",
    "(114, 12),\n",
    "(112, 19),\n",
    "(113, 19);\n",
    "\"\"\"\n",
    "\n",
    "connection = create_db_connection('localhost', 'root', pw, 'school')\n",
    "\n",
    "execute_query(connection, pop_client)\n",
    "execute_query(connection, pop_participant)\n",
    "execute_query(connection, pop_course)\n",
    "execute_query(connection, pop_takescourse)"
   ]
  },
  {
   "cell_type": "markdown",
   "metadata": {},
   "source": [
    "## Reading the data "
   ]
  },
  {
   "cell_type": "code",
   "execution_count": 20,
   "metadata": {},
   "outputs": [],
   "source": [
    "# using cursor.fetchall() to read the data from the database without making any changes \n",
    "\n",
    "def read_query(connection, query):\n",
    "    cursor = connection.cursor()\n",
    "    result = None\n",
    "    try:\n",
    "        cursor.execute(query)\n",
    "        result = cursor.fetchall()\n",
    "        return result\n",
    "    except Error as err:\n",
    "        print(f\"Error: '{err}'\")"
   ]
  },
  {
   "cell_type": "code",
   "execution_count": 23,
   "metadata": {},
   "outputs": [
    {
     "name": "stdout",
     "output_type": "stream",
     "text": [
      "MySQL Database connection successful\n",
      "(1, 'James', 'Smith', 'ENG', None, datetime.date(1985, 4, 20), 12345, '+491774553676')\n",
      "(2, 'Stefanie', 'Martin', 'FRA', None, datetime.date(1970, 2, 17), 23456, '+491234567890')\n",
      "(3, 'Steve', 'Wang', 'MAN', 'ENG', datetime.date(1990, 11, 12), 34567, '+447840921333')\n",
      "(4, 'Friederike', 'Müller-Rossi', 'DEU', 'ITA', datetime.date(1987, 7, 7), 45678, '+492345678901')\n",
      "(5, 'Isobel', 'Ivanova', 'RUS', 'ENG', datetime.date(1963, 5, 30), 56789, '+491772635467')\n",
      "(6, 'Niamh', 'Murphy', 'ENG', 'IRI', datetime.date(1995, 9, 8), 67890, '+491231231232')\n"
     ]
    }
   ],
   "source": [
    "# create a simple query\n",
    "\n",
    "query1 = '''\n",
    "SELECT * FROM teacher;\n",
    "'''\n",
    "\n",
    "connection = create_db_connection(\"localhost\", \"root\", pw, 'school')\n",
    "results = read_query(connection, query1)\n",
    "\n",
    "for result in results:\n",
    "    print(result)"
   ]
  },
  {
   "cell_type": "code",
   "execution_count": 29,
   "metadata": {},
   "outputs": [
    {
     "name": "stdout",
     "output_type": "stream",
     "text": [
      "MySQL Database connection successful\n",
      "(13, 'Beginner English', 'ENG', 'Big Business Federation', '123 Falschungstraße, 10999 Berlin')\n",
      "(14, 'Intermediate English', 'ENG', 'Big Business Federation', '123 Falschungstraße, 10999 Berlin')\n",
      "(15, 'Advanced English', 'ENG', 'Big Business Federation', '123 Falschungstraße, 10999 Berlin')\n",
      "(17, 'Français intermédiaire', 'FRA', 'Big Business Federation', '123 Falschungstraße, 10999 Berlin')\n",
      "(19, 'Intermediate English', 'ENG', 'Banko Bank', '12 Betrugstraße, 12345 Berlin')\n",
      "(20, 'Fortgeschrittenes Russisch', 'RUS', 'AutoMaker AG', '20 Künstlichstraße, 10023 Berlin')\n"
     ]
    }
   ],
   "source": [
    "# doing join on the course and client tables \n",
    "\n",
    "query2 = '''\n",
    "SELECT course.course_id, course.course_name, course.language, client.client_name, client.address\n",
    "FROM course \n",
    "INNER JOIN client \n",
    "ON course.client = client.client_id\n",
    "WHERE course.in_school = FALSE; \n",
    "'''\n",
    "\n",
    "connection = create_db_connection(\"localhost\", \"root\", pw, 'school')\n",
    "results = read_query(connection, query2)\n",
    "\n",
    "for result in results:\n",
    "    print(result )"
   ]
  },
  {
   "cell_type": "markdown",
   "metadata": {},
   "source": [
    "## Formatting the ouptut "
   ]
  },
  {
   "cell_type": "code",
   "execution_count": 33,
   "metadata": {},
   "outputs": [
    {
     "data": {
      "text/html": [
       "<div>\n",
       "<style scoped>\n",
       "    .dataframe tbody tr th:only-of-type {\n",
       "        vertical-align: middle;\n",
       "    }\n",
       "\n",
       "    .dataframe tbody tr th {\n",
       "        vertical-align: top;\n",
       "    }\n",
       "\n",
       "    .dataframe thead th {\n",
       "        text-align: right;\n",
       "    }\n",
       "</style>\n",
       "<table border=\"1\" class=\"dataframe\">\n",
       "  <thead>\n",
       "    <tr style=\"text-align: right;\">\n",
       "      <th></th>\n",
       "      <th>course_id</th>\n",
       "      <th>course_name</th>\n",
       "      <th>language</th>\n",
       "      <th>client_name</th>\n",
       "      <th>address</th>\n",
       "    </tr>\n",
       "  </thead>\n",
       "  <tbody>\n",
       "    <tr>\n",
       "      <th>0</th>\n",
       "      <td>13</td>\n",
       "      <td>Beginner English</td>\n",
       "      <td>ENG</td>\n",
       "      <td>Big Business Federation</td>\n",
       "      <td>123 Falschungstraße, 10999 Berlin</td>\n",
       "    </tr>\n",
       "    <tr>\n",
       "      <th>1</th>\n",
       "      <td>14</td>\n",
       "      <td>Intermediate English</td>\n",
       "      <td>ENG</td>\n",
       "      <td>Big Business Federation</td>\n",
       "      <td>123 Falschungstraße, 10999 Berlin</td>\n",
       "    </tr>\n",
       "    <tr>\n",
       "      <th>2</th>\n",
       "      <td>15</td>\n",
       "      <td>Advanced English</td>\n",
       "      <td>ENG</td>\n",
       "      <td>Big Business Federation</td>\n",
       "      <td>123 Falschungstraße, 10999 Berlin</td>\n",
       "    </tr>\n",
       "    <tr>\n",
       "      <th>3</th>\n",
       "      <td>17</td>\n",
       "      <td>Français intermédiaire</td>\n",
       "      <td>FRA</td>\n",
       "      <td>Big Business Federation</td>\n",
       "      <td>123 Falschungstraße, 10999 Berlin</td>\n",
       "    </tr>\n",
       "    <tr>\n",
       "      <th>4</th>\n",
       "      <td>19</td>\n",
       "      <td>Intermediate English</td>\n",
       "      <td>ENG</td>\n",
       "      <td>Banko Bank</td>\n",
       "      <td>12 Betrugstraße, 12345 Berlin</td>\n",
       "    </tr>\n",
       "    <tr>\n",
       "      <th>5</th>\n",
       "      <td>20</td>\n",
       "      <td>Fortgeschrittenes Russisch</td>\n",
       "      <td>RUS</td>\n",
       "      <td>AutoMaker AG</td>\n",
       "      <td>20 Künstlichstraße, 10023 Berlin</td>\n",
       "    </tr>\n",
       "  </tbody>\n",
       "</table>\n",
       "</div>"
      ],
      "text/plain": [
       "   course_id                 course_name language              client_name  \\\n",
       "0         13            Beginner English      ENG  Big Business Federation   \n",
       "1         14        Intermediate English      ENG  Big Business Federation   \n",
       "2         15            Advanced English      ENG  Big Business Federation   \n",
       "3         17      Français intermédiaire      FRA  Big Business Federation   \n",
       "4         19        Intermediate English      ENG               Banko Bank   \n",
       "5         20  Fortgeschrittenes Russisch      RUS             AutoMaker AG   \n",
       "\n",
       "                             address  \n",
       "0  123 Falschungstraße, 10999 Berlin  \n",
       "1  123 Falschungstraße, 10999 Berlin  \n",
       "2  123 Falschungstraße, 10999 Berlin  \n",
       "3  123 Falschungstraße, 10999 Berlin  \n",
       "4      12 Betrugstraße, 12345 Berlin  \n",
       "5   20 Künstlichstraße, 10023 Berlin  "
      ]
     },
     "metadata": {},
     "output_type": "display_data"
    }
   ],
   "source": [
    "# returns a list of lists and then creates a pandas Dataframe\n",
    "\n",
    "from_db = []\n",
    "\n",
    "for result in results:\n",
    "    result = list(result)\n",
    "    from_db.append(result)\n",
    "    \n",
    "columns = [\"course_id\", \"course_name\", \"language\", \"client_name\", \"address\"]\n",
    "df = pd.DataFrame(from_db, columns = columns )\n",
    "display(df)"
   ]
  },
  {
   "cell_type": "markdown",
   "metadata": {},
   "source": [
    "## Updating the Records "
   ]
  },
  {
   "cell_type": "code",
   "execution_count": 35,
   "metadata": {},
   "outputs": [
    {
     "name": "stdout",
     "output_type": "stream",
     "text": [
      "MySQL Database connection successful\n",
      "Query successful\n"
     ]
    }
   ],
   "source": [
    "# updating the address where client_id = 101 \n",
    "\n",
    "update = '''\n",
    "UPDATE client \n",
    "SET address = '23 Fingiertweg, 14534 Berlin'\n",
    "WHERE client_id = 101;\n",
    "'''\n",
    "\n",
    "#1. create a connection \n",
    "\n",
    "connection = create_db_connection('localhost', 'root', pw, 'school')\n",
    "\n",
    "#2. execute the query \n",
    "\n",
    "execute_query(connection,update)"
   ]
  },
  {
   "cell_type": "markdown",
   "metadata": {},
   "source": [
    "## Deleting the Records "
   ]
  },
  {
   "cell_type": "code",
   "execution_count": 41,
   "metadata": {},
   "outputs": [
    {
     "name": "stdout",
     "output_type": "stream",
     "text": [
      "MySQL Database connection successful\n",
      "Query successful\n"
     ]
    }
   ],
   "source": [
    "# deleting a course_id = 20 from the course database \n",
    "\n",
    "delete = '''\n",
    "DELETE FROM course \n",
    "WHERE course_id = 20; \n",
    "'''\n",
    "\n",
    "# create a connection \n",
    "\n",
    "connection = create_db_connection('localhost', 'root', pw, 'school')\n",
    "\n",
    "# execute the defined query \n",
    "\n",
    "execute_query(connection, delete)"
   ]
  },
  {
   "cell_type": "code",
   "execution_count": 45,
   "metadata": {},
   "outputs": [
    {
     "name": "stdout",
     "output_type": "stream",
     "text": [
      "MySQL Database connection successful\n",
      "(13, 'Beginner English', 'ENG', 'Big Business Federation', '123 Falschungstraße, 10999 Berlin')\n",
      "(14, 'Intermediate English', 'ENG', 'Big Business Federation', '123 Falschungstraße, 10999 Berlin')\n",
      "(15, 'Advanced English', 'ENG', 'Big Business Federation', '123 Falschungstraße, 10999 Berlin')\n",
      "(17, 'Français intermédiaire', 'FRA', 'Big Business Federation', '123 Falschungstraße, 10999 Berlin')\n",
      "(19, 'Intermediate English', 'ENG', 'Banko Bank', '12 Betrugstraße, 12345 Berlin')\n",
      "(20, 'Fortgeschrittenes Russisch', 'RUS', 'AutoMaker AG', '20 Künstlichstraße, 10023 Berlin')\n"
     ]
    }
   ],
   "source": [
    "# let's confirm that we delete the course_id = 20\n",
    "\n",
    "course_id_20 = '''\n",
    "SELECT * \n",
    "FROM course;\n",
    "'''\n",
    "\n",
    "connection = create_db_connection('localhost', 'root', pw, 'school')\n",
    "result = read_query(connection, course_id_20)\n",
    "\n",
    "from_db = []\n",
    "\n",
    "for result in results:\n",
    "    print(result)"
   ]
  },
  {
   "cell_type": "markdown",
   "metadata": {},
   "source": [
    "## Creating Records from Lists"
   ]
  },
  {
   "cell_type": "code",
   "execution_count": 63,
   "metadata": {},
   "outputs": [],
   "source": [
    "def execute_list_query(connection, sql, val):\n",
    "    cursor = connection.cursor()\n",
    "    try:\n",
    "        cursor.executemany(sql, val)\n",
    "        connection.commit()\n",
    "        print(\"Query successful\")\n",
    "    except Error as err:\n",
    "        print(f\"Error: '{err}'\")"
   ]
  },
  {
   "cell_type": "code",
   "execution_count": 64,
   "metadata": {},
   "outputs": [],
   "source": [
    "# adding two new teachers to the database \n",
    "# use %s as placeholder for our value.\n",
    "\n",
    "sql = '''\n",
    "    INSERT INTO teacher (teacher_id, first_name, last_name, language_1, language_2, dob, tax_id, phone_no) \n",
    "    VALUES (%s, %s, %s, %s, %s, %s, %s, %s)\n",
    "    '''\n",
    "    \n",
    "val = [\n",
    "    (7, 'Hank', 'Dodson', 'ENG', None, '1991-12-23', 11111, '+491772345678'), \n",
    "    (8, 'Sue', 'Perkins', 'MAN', 'ENG', '1976-02-02', 22222, '+491443456432')\n",
    "]"
   ]
  },
  {
   "cell_type": "code",
   "execution_count": 65,
   "metadata": {},
   "outputs": [
    {
     "name": "stdout",
     "output_type": "stream",
     "text": [
      "MySQL Database connection successful\n",
      "Error: '1205 (HY000): Lock wait timeout exceeded; try restarting transaction'\n"
     ]
    }
   ],
   "source": [
    "#execute the query and add the teachers to our database \n",
    "\n",
    "\n",
    "connection = create_db_connection('localhost', 'root', pw, 'school')\n",
    "execute_list_query(connection, sql,val)"
   ]
  }
 ],
 "metadata": {
  "kernelspec": {
   "display_name": "Python 3",
   "language": "python",
   "name": "python3"
  },
  "language_info": {
   "codemirror_mode": {
    "name": "ipython",
    "version": 3
   },
   "file_extension": ".py",
   "mimetype": "text/x-python",
   "name": "python",
   "nbconvert_exporter": "python",
   "pygments_lexer": "ipython3",
   "version": "3.7.6"
  }
 },
 "nbformat": 4,
 "nbformat_minor": 4
}
